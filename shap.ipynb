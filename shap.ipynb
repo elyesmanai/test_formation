{
 "cells": [
  {
   "cell_type": "code",
   "execution_count": 1,
   "id": "bfa05883-5951-4bd7-acf7-f704625e63d6",
   "metadata": {
    "tags": []
   },
   "outputs": [
    {
     "name": "stderr",
     "output_type": "stream",
     "text": [
      "C:\\Users\\elyes\\AppData\\Local\\Programs\\Python\\Python310\\lib\\site-packages\\tqdm\\auto.py:21: TqdmWarning: IProgress not found. Please update jupyter and ipywidgets. See https://ipywidgets.readthedocs.io/en/stable/user_install.html\n",
      "  from .autonotebook import tqdm as notebook_tqdm\n"
     ]
    }
   ],
   "source": [
    "from sklearn.feature_extraction.text import TfidfVectorizer\n",
    "import pandas as pd\n",
    "import os\n",
    "from xgboost import XGBClassifier\n",
    "from sklearn.metrics import f1_score, accuracy_score\n",
    "import json\n",
    "import numpy as np\n",
    "from tqdm import tqdm\n",
    "import xgboost as xgb\n",
    "import shap"
   ]
  },
  {
   "cell_type": "markdown",
   "id": "4c41561f-2a0e-4993-a07d-4f89ae6586da",
   "metadata": {},
   "source": [
    "# Global Explanation"
   ]
  },
  {
   "cell_type": "code",
   "execution_count": null,
   "id": "201961ce-a66e-4d08-b9e2-962d9f2e8bdc",
   "metadata": {},
   "outputs": [],
   "source": [
    "train_texts = pd.read_parquet('data/x_train_vec.parquet')\n",
    "valid_texts = pd.read_parquet('data/x_valid_vec.parquet')"
   ]
  },
  {
   "cell_type": "code",
   "execution_count": null,
   "id": "a5ca89e6-9060-404f-874a-59cd453e1947",
   "metadata": {},
   "outputs": [],
   "source": [
    "def build_shap_values(label, sample):\n",
    "    with open(f'data/{label}/label_mapping.txt') as f:\n",
    "        content = f.read().replace(\"'\",'\"')\n",
    "        class_names = list(json.loads(content).keys())\n",
    "\n",
    "    model = xgb.Booster()\n",
    "    model.load_model(f\"models/xgb/{label}.json\")\n",
    "    \n",
    "    explainer = shap.TreeExplainer(model)\n",
    "    shap_values = explainer.shap_values(sample.astype(float))\n",
    "    expected_value= explainer.expected_value\n",
    "    return explainer, shap_values, expected_value, class_names"
   ]
  },
  {
   "cell_type": "markdown",
   "id": "1198e775-9852-4e9f-987c-cb84f66012c5",
   "metadata": {},
   "source": [
    "## local Explanations"
   ]
  },
  {
   "cell_type": "code",
   "execution_count": null,
   "id": "7b58124d-e392-44c6-a0dc-6b9c2ae4396d",
   "metadata": {},
   "outputs": [],
   "source": [
    "import shap\n",
    "S_samples = valid_texts\n",
    "S_explainer, S_shap_values, S_expected_value, S_class_names = build_shap_values(\"scope\", PR_samples)\n",
    "S_class_names"
   ]
  },
  {
   "cell_type": "code",
   "execution_count": null,
   "id": "53ac7be3-ccdc-4eb3-96ca-bf5b19134bb3",
   "metadata": {},
   "outputs": [],
   "source": [
    "shap.initjs()\n",
    "shap.force_plot(S_expected_value, S_shap_values[0],feature_names=valid_texts.columns)"
   ]
  }
 ],
 "metadata": {
  "kernelspec": {
   "display_name": "Python 3 (ipykernel)",
   "language": "python",
   "name": "python3"
  },
  "language_info": {
   "codemirror_mode": {
    "name": "ipython",
    "version": 3
   },
   "file_extension": ".py",
   "mimetype": "text/x-python",
   "name": "python",
   "nbconvert_exporter": "python",
   "pygments_lexer": "ipython3",
   "version": "3.10.10"
  }
 },
 "nbformat": 4,
 "nbformat_minor": 5
}
