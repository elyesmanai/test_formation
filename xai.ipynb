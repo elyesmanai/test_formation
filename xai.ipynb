{
 "cells": [
  {
   "cell_type": "code",
   "execution_count": 1,
   "id": "bfa05883-5951-4bd7-acf7-f704625e63d6",
   "metadata": {
    "tags": []
   },
   "outputs": [
    {
     "name": "stderr",
     "output_type": "stream",
     "text": [
      "C:\\Users\\elyes\\AppData\\Local\\Programs\\Python\\Python310\\lib\\site-packages\\tqdm\\auto.py:21: TqdmWarning: IProgress not found. Please update jupyter and ipywidgets. See https://ipywidgets.readthedocs.io/en/stable/user_install.html\n",
      "  from .autonotebook import tqdm as notebook_tqdm\n"
     ]
    }
   ],
   "source": [
    "from sklearn.feature_extraction.text import TfidfVectorizer\n",
    "import pandas as pd\n",
    "import os\n",
    "from xgboost import XGBClassifier\n",
    "from sklearn.metrics import f1_score, accuracy_score\n",
    "import json\n",
    "import numpy as np\n",
    "from tqdm import tqdm\n",
    "import xgboost as xgb\n",
    "import shap\n",
    "from collections import defaultdict\n",
    "import warnings\n",
    "warnings.filterwarnings('ignore')\n",
    "from collections.abc import MutableMapping\n",
    "from sklearn.feature_extraction.text import CountVectorizer\n",
    "import string\n",
    "import nltk\n",
    "#nltk.download('punkt')\n",
    "#nltk.download('stopwords')\n",
    "from nltk.tokenize import word_tokenize\n",
    "from nltk.corpus import stopwords\n",
    "from nltk.stem import PorterStemmer\n",
    "from sklearn.feature_extraction.text import TfidfVectorizer"
   ]
  },
  {
   "cell_type": "code",
   "execution_count": 3,
   "id": "d4f76f97-2e1c-4b1a-9d07-c910d1a4c822",
   "metadata": {
    "tags": []
   },
   "outputs": [],
   "source": [
    "valid_texts = pd.read_parquet('data/x_valid_vec.parquet')"
   ]
  },
  {
   "cell_type": "code",
   "execution_count": 4,
   "id": "69af94e1-a21a-4ac9-86f4-496b5a1e6aa5",
   "metadata": {
    "tags": []
   },
   "outputs": [],
   "source": [
    "def flatten_dict(d: MutableMapping, sep: str= '.') -> MutableMapping:\n",
    "    [flat_dict] = pd.json_normalize(d, sep=sep).to_dict(orient='records')\n",
    "    return flat_dict"
   ]
  },
  {
   "cell_type": "code",
   "execution_count": 5,
   "id": "fda46834-fac3-4381-85da-5062cfa89eb8",
   "metadata": {
    "tags": []
   },
   "outputs": [],
   "source": [
    "def build_shap_values(label, sample):\n",
    "    with open(f'data/{label}/label_mapping.txt') as f:\n",
    "        content = f.read().replace(\"'\",'\"')\n",
    "        class_names = list(json.loads(content).keys())\n",
    "\n",
    "    model = xgb.Booster()\n",
    "    model.load_model(f\"models/xgb/{label}.json\")\n",
    "    \n",
    "    explainer = shap.TreeExplainer(model)\n",
    "    shap_values = explainer.shap_values(sample.astype(float))\n",
    "    expected_value= explainer.expected_value\n",
    "    return explainer, shap_values, expected_value, class_names"
   ]
  },
  {
   "cell_type": "code",
   "execution_count": 6,
   "id": "86668417-aca6-4145-9f7d-dc75fff926dd",
   "metadata": {
    "tags": []
   },
   "outputs": [],
   "source": [
    "def remove_useless_words(texts):\n",
    "    zero_columns = []\n",
    "    for column in valid_texts.columns:\n",
    "        if valid_texts[column].sum() == 0.0:\n",
    "            zero_columns.append(column)\n",
    "    return valid_texts.drop(zero_columns,axis=1)"
   ]
  },
  {
   "cell_type": "code",
   "execution_count": 7,
   "id": "797a3c4e-22b9-4765-a2bb-5e53e4e41364",
   "metadata": {
    "tags": []
   },
   "outputs": [],
   "source": [
    "def calculate_word_contribution(texts, classes, shap_values):\n",
    "    word_contribution = defaultdict(dict)\n",
    "\n",
    "    for i,word in tqdm(enumerate(texts.columns)):\n",
    "        for j,classname in enumerate(classes): \n",
    "            score=0\n",
    "            for k in range(16378):\n",
    "                score += abs(shap_values[j][k][i])\n",
    "            \n",
    "            word_contribution[word][classname] = score\n",
    "\n",
    "    return word_contribution"
   ]
  },
  {
   "cell_type": "code",
   "execution_count": 8,
   "id": "222681d8-dcb8-4988-b0b9-64fb1b35e381",
   "metadata": {
    "tags": []
   },
   "outputs": [],
   "source": [
    "def remove_zero_words(word_contrib):\n",
    "    new_contrib = defaultdict(dict)\n",
    "    for word in list(word_contrib.keys()):\n",
    "        if np.sum(list(word_contrib[word].values())) == 0.0:\n",
    "            del word_contrib[word]\n",
    "    return word_contrib"
   ]
  },
  {
   "cell_type": "markdown",
   "id": "c336f402-381f-49d3-875c-2e6e038f4119",
   "metadata": {
    "tags": []
   },
   "source": [
    "## SHAP Values generation"
   ]
  },
  {
   "cell_type": "code",
   "execution_count": 107,
   "id": "f7484e57-8c72-431e-b6d1-66813ddebddf",
   "metadata": {
    "tags": []
   },
   "outputs": [
    {
     "name": "stdout",
     "output_type": "stream",
     "text": [
      "0 HIGH\n",
      "1 LOW\n",
      "2 NONE\n",
      "CPU times: total: 11min 13s\n",
      "Wall time: 1min 2s\n"
     ]
    },
    {
     "data": {
      "text/plain": [
       "[None, None, None]"
      ]
     },
     "execution_count": 107,
     "metadata": {},
     "output_type": "execute_result"
    }
   ],
   "source": [
    "%%time\n",
    "PR_explainer, PR_shap_values, PR_expected_value, PR_class_names = build_shap_values(\"privilegesRequired\", valid_texts)\n",
    "[print(i,e) for i,e in enumerate(PR_class_names)]"
   ]
  },
  {
   "cell_type": "code",
   "execution_count": 9,
   "id": "e3e1ce68-13ea-487e-95b1-337e46c94ce6",
   "metadata": {
    "collapsed": true,
    "jupyter": {
     "outputs_hidden": true
    },
    "tags": []
   },
   "outputs": [
    {
     "name": "stdout",
     "output_type": "stream",
     "text": [
      "0 ADJACENT_NETWORK\n",
      "1 LOCAL\n",
      "2 NETWORK\n",
      "3 PHYSICAL\n",
      "CPU times: total: 15min 29s\n",
      "Wall time: 1min 30s\n"
     ]
    },
    {
     "data": {
      "text/plain": [
       "[None, None, None, None]"
      ]
     },
     "execution_count": 9,
     "metadata": {},
     "output_type": "execute_result"
    }
   ],
   "source": [
    "%%time\n",
    "AV_explainer, AV_shap_values, AV_expected_value, AV_class_names = build_shap_values(\"attackVector\", valid_texts)\n",
    "[print(i,e) for i,e in enumerate(AV_class_names)]"
   ]
  },
  {
   "cell_type": "code",
   "execution_count": 40,
   "id": "fb4f877a-e2e6-4492-8cf3-1fa19ed555a2",
   "metadata": {
    "tags": []
   },
   "outputs": [
    {
     "data": {
      "text/plain": [
       "0.0"
      ]
     },
     "execution_count": 40,
     "metadata": {},
     "output_type": "execute_result"
    }
   ],
   "source": [
    "AV_shap_values[1][230][0]"
   ]
  },
  {
   "cell_type": "markdown",
   "id": "804bdc07-31d8-4714-9a78-6627fe7fedbf",
   "metadata": {
    "tags": []
   },
   "source": [
    "## Word contribution calculation"
   ]
  },
  {
   "cell_type": "code",
   "execution_count": 59,
   "id": "5af9b49c-eefe-4c28-9673-402d118d66e5",
   "metadata": {
    "tags": []
   },
   "outputs": [
    {
     "name": "stderr",
     "output_type": "stream",
     "text": [
      "15000it [07:50, 31.85it/s]\n"
     ]
    },
    {
     "name": "stdout",
     "output_type": "stream",
     "text": [
      "15000\n",
      "1483\n",
      "CPU times: total: 7min 49s\n",
      "Wall time: 7min 51s\n"
     ]
    }
   ],
   "source": [
    "%%time\n",
    "AV_word_contrib = calculate_word_contribution(valid_texts, AV_class_names, AV_shap_values)\n",
    "print(len(AV_word_contrib))\n",
    "AV_word_contib = remove_zero_words(AV_word_contrib)\n",
    "print(len(AV_word_contrib))"
   ]
  },
  {
   "cell_type": "code",
   "execution_count": 60,
   "id": "ed282f79-fe03-4a02-b6e9-b93b40b18138",
   "metadata": {
    "tags": []
   },
   "outputs": [],
   "source": [
    "with open(\"data/word_contribution_attack_vector.json\",\"w\") as f:\n",
    "    f.write(json.dumps(AV_word_contrib))"
   ]
  },
  {
   "cell_type": "code",
   "execution_count": 108,
   "id": "fe58c51a-9fd1-4b48-b881-861ce4f4bd1a",
   "metadata": {
    "tags": []
   },
   "outputs": [
    {
     "name": "stderr",
     "output_type": "stream",
     "text": [
      "15000it [04:47, 52.13it/s]"
     ]
    },
    {
     "name": "stdout",
     "output_type": "stream",
     "text": [
      "1483\n",
      "1483\n"
     ]
    },
    {
     "name": "stderr",
     "output_type": "stream",
     "text": [
      "\n"
     ]
    }
   ],
   "source": [
    "PR_word_contrib = calculate_word_contribution(valid_texts, PR_class_names, PR_shap_values)\n",
    "print(len(AV_word_contrib))\n",
    "PR_word_contrib = remove_zero_words(PR_word_contrib)\n",
    "print(len(AV_word_contrib))"
   ]
  },
  {
   "cell_type": "code",
   "execution_count": 1,
   "id": "d561aee2-36bb-4e88-9d3f-1c40f64d4fa1",
   "metadata": {
    "tags": []
   },
   "outputs": [
    {
     "ename": "NameError",
     "evalue": "name 'json' is not defined",
     "output_type": "error",
     "traceback": [
      "\u001b[1;31m---------------------------------------------------------------------------\u001b[0m",
      "\u001b[1;31mNameError\u001b[0m                                 Traceback (most recent call last)",
      "Cell \u001b[1;32mIn[1], line 2\u001b[0m\n\u001b[0;32m      1\u001b[0m \u001b[38;5;28;01mwith\u001b[39;00m \u001b[38;5;28mopen\u001b[39m(\u001b[38;5;124m\"\u001b[39m\u001b[38;5;124mdata/word_contribution_privilege_escalation.json\u001b[39m\u001b[38;5;124m\"\u001b[39m,\u001b[38;5;124m\"\u001b[39m\u001b[38;5;124mw\u001b[39m\u001b[38;5;124m\"\u001b[39m) \u001b[38;5;28;01mas\u001b[39;00m f:\n\u001b[1;32m----> 2\u001b[0m     f\u001b[38;5;241m.\u001b[39mwrite(\u001b[43mjson\u001b[49m\u001b[38;5;241m.\u001b[39mdumps(AV_word_contrib))\n",
      "\u001b[1;31mNameError\u001b[0m: name 'json' is not defined"
     ]
    }
   ],
   "source": [
    "with open(\"data/word_contribution_privilege_escalation.json\",\"w\") as f:\n",
    "    f.write(json.dumps(AV_word_contrib))"
   ]
  },
  {
   "cell_type": "markdown",
   "id": "5f7e159b-c433-4e31-bb04-b53f3407f991",
   "metadata": {},
   "source": [
    "## Word analysis"
   ]
  },
  {
   "cell_type": "code",
   "execution_count": 111,
   "id": "e2e7ac69-67ac-411c-bb40-80e56f22abe3",
   "metadata": {
    "tags": []
   },
   "outputs": [],
   "source": [
    "# with open(\"data/word_contribution_privilege_escalation.json\",\"r\") as f:\n",
    "#     pe_wc = json.loads(f.read())"
   ]
  },
  {
   "cell_type": "code",
   "execution_count": 61,
   "id": "87f72176-1ad4-48dd-8b64-3e0891f524a7",
   "metadata": {
    "tags": []
   },
   "outputs": [],
   "source": [
    "with open(\"data/word_contribution_attack_vector.json\",\"r\") as f:\n",
    "    av_wc = json.loads(f.read())"
   ]
  },
  {
   "cell_type": "code",
   "execution_count": 62,
   "id": "ceb9be3a-a6c4-4728-8d7d-f826933df10c",
   "metadata": {
    "tags": []
   },
   "outputs": [],
   "source": [
    "# Return only the words that are found in only one class\n",
    "exclusively = pd.DataFrame(columns=['word','class','score'])\n",
    "\n",
    "for word,class_scores in list(av_wc.items()):\n",
    "    scores = list(av_wc[word].values())\n",
    "    sum = np.sum(scores)\n",
    "    \n",
    "    if sum in scores:\n",
    "        index = scores.index(sum)\n",
    "        exclusively.loc[len(exclusively)] = [word, list(class_scores.keys())[index], list(class_scores.values())[index]]"
   ]
  },
  {
   "cell_type": "code",
   "execution_count": 20,
   "id": "6ea72317-34fe-475f-89c3-c685100fa0f1",
   "metadata": {
    "tags": []
   },
   "outputs": [
    {
     "data": {
      "text/html": [
       "<div>\n",
       "<style scoped>\n",
       "    .dataframe tbody tr th:only-of-type {\n",
       "        vertical-align: middle;\n",
       "    }\n",
       "\n",
       "    .dataframe tbody tr th {\n",
       "        vertical-align: top;\n",
       "    }\n",
       "\n",
       "    .dataframe thead th {\n",
       "        text-align: right;\n",
       "    }\n",
       "</style>\n",
       "<table border=\"1\" class=\"dataframe\">\n",
       "  <thead>\n",
       "    <tr style=\"text-align: right;\">\n",
       "      <th></th>\n",
       "      <th>word</th>\n",
       "      <th>class</th>\n",
       "      <th>score</th>\n",
       "    </tr>\n",
       "  </thead>\n",
       "  <tbody>\n",
       "    <tr>\n",
       "      <th>482</th>\n",
       "      <td>passcode</td>\n",
       "      <td>PHYSICAL</td>\n",
       "      <td>38.945442</td>\n",
       "    </tr>\n",
       "    <tr>\n",
       "      <th>142</th>\n",
       "      <td>camera</td>\n",
       "      <td>PHYSICAL</td>\n",
       "      <td>45.707560</td>\n",
       "    </tr>\n",
       "    <tr>\n",
       "      <th>22</th>\n",
       "      <td>21892</td>\n",
       "      <td>PHYSICAL</td>\n",
       "      <td>0.406458</td>\n",
       "    </tr>\n",
       "    <tr>\n",
       "      <th>775</th>\n",
       "      <td>zephyrproject</td>\n",
       "      <td>PHYSICAL</td>\n",
       "      <td>2.399262</td>\n",
       "    </tr>\n",
       "    <tr>\n",
       "      <th>153</th>\n",
       "      <td>changing</td>\n",
       "      <td>PHYSICAL</td>\n",
       "      <td>10.903842</td>\n",
       "    </tr>\n",
       "    <tr>\n",
       "      <th>469</th>\n",
       "      <td>opensc</td>\n",
       "      <td>PHYSICAL</td>\n",
       "      <td>18.457236</td>\n",
       "    </tr>\n",
       "    <tr>\n",
       "      <th>644</th>\n",
       "      <td>spoofed</td>\n",
       "      <td>PHYSICAL</td>\n",
       "      <td>26.078166</td>\n",
       "    </tr>\n",
       "    <tr>\n",
       "      <th>462</th>\n",
       "      <td>nxp</td>\n",
       "      <td>PHYSICAL</td>\n",
       "      <td>2.751572</td>\n",
       "    </tr>\n",
       "    <tr>\n",
       "      <th>126</th>\n",
       "      <td>bitlocker</td>\n",
       "      <td>PHYSICAL</td>\n",
       "      <td>37.333996</td>\n",
       "    </tr>\n",
       "    <tr>\n",
       "      <th>398</th>\n",
       "      <td>lock</td>\n",
       "      <td>PHYSICAL</td>\n",
       "      <td>354.887113</td>\n",
       "    </tr>\n",
       "  </tbody>\n",
       "</table>\n",
       "</div>"
      ],
      "text/plain": [
       "              word     class       score\n",
       "482       passcode  PHYSICAL   38.945442\n",
       "142         camera  PHYSICAL   45.707560\n",
       "22           21892  PHYSICAL    0.406458\n",
       "775  zephyrproject  PHYSICAL    2.399262\n",
       "153       changing  PHYSICAL   10.903842\n",
       "469         opensc  PHYSICAL   18.457236\n",
       "644        spoofed  PHYSICAL   26.078166\n",
       "462            nxp  PHYSICAL    2.751572\n",
       "126      bitlocker  PHYSICAL   37.333996\n",
       "398           lock  PHYSICAL  354.887113"
      ]
     },
     "execution_count": 20,
     "metadata": {},
     "output_type": "execute_result"
    }
   ],
   "source": [
    "exclusively[exclusively['class'] == \"PHYSICAL\"].sample(10)"
   ]
  },
  {
   "cell_type": "code",
   "execution_count": 63,
   "id": "a8c16665-e8d4-44c1-a8ff-15834a0ebf0a",
   "metadata": {
    "tags": []
   },
   "outputs": [],
   "source": [
    "descriptions = pd.read_csv('data/raw_cves.csv', usecols=['cve.descriptions.lang.en'])"
   ]
  },
  {
   "cell_type": "code",
   "execution_count": 17,
   "id": "b3b810bc-58a6-42ef-aac5-8f84e40fd562",
   "metadata": {
    "tags": []
   },
   "outputs": [
    {
     "data": {
      "text/html": [
       "<div>\n",
       "<style scoped>\n",
       "    .dataframe tbody tr th:only-of-type {\n",
       "        vertical-align: middle;\n",
       "    }\n",
       "\n",
       "    .dataframe tbody tr th {\n",
       "        vertical-align: top;\n",
       "    }\n",
       "\n",
       "    .dataframe thead th {\n",
       "        text-align: right;\n",
       "    }\n",
       "</style>\n",
       "<table border=\"1\" class=\"dataframe\">\n",
       "  <thead>\n",
       "    <tr style=\"text-align: right;\">\n",
       "      <th></th>\n",
       "      <th>cve.descriptions.lang.en</th>\n",
       "    </tr>\n",
       "  </thead>\n",
       "  <tbody>\n",
       "    <tr>\n",
       "      <th>0</th>\n",
       "      <td>The debug command in Sendmail is enabled, allo...</td>\n",
       "    </tr>\n",
       "    <tr>\n",
       "      <th>1</th>\n",
       "      <td>CWD ~root command in ftpd allows root access.</td>\n",
       "    </tr>\n",
       "    <tr>\n",
       "      <th>2</th>\n",
       "      <td>Buffer overflow in passwd in BSD based operati...</td>\n",
       "    </tr>\n",
       "    <tr>\n",
       "      <th>3</th>\n",
       "      <td>Vulnerability in restore in SunOS 4.0.3 and ea...</td>\n",
       "    </tr>\n",
       "    <tr>\n",
       "      <th>4</th>\n",
       "      <td>Vulnerability in rcp on SunOS 4.0.x allows rem...</td>\n",
       "    </tr>\n",
       "    <tr>\n",
       "      <th>...</th>\n",
       "      <td>...</td>\n",
       "    </tr>\n",
       "    <tr>\n",
       "      <th>197750</th>\n",
       "      <td>The VK All in One Expansion Unit WordPress plu...</td>\n",
       "    </tr>\n",
       "    <tr>\n",
       "      <th>197751</th>\n",
       "      <td>The ProfileGrid WordPress plugin before 5.3.1 ...</td>\n",
       "    </tr>\n",
       "    <tr>\n",
       "      <th>197752</th>\n",
       "      <td>Cross-site Scripting (XSS) - DOM in GitHub rep...</td>\n",
       "    </tr>\n",
       "    <tr>\n",
       "      <th>197753</th>\n",
       "      <td>HTML Email Injection in Tribe29 Checkmk &lt;=2.1....</td>\n",
       "    </tr>\n",
       "    <tr>\n",
       "      <th>197754</th>\n",
       "      <td>CairoSVG is an SVG converter based on Cairo, a...</td>\n",
       "    </tr>\n",
       "  </tbody>\n",
       "</table>\n",
       "<p>197755 rows × 1 columns</p>\n",
       "</div>"
      ],
      "text/plain": [
       "                                 cve.descriptions.lang.en\n",
       "0       The debug command in Sendmail is enabled, allo...\n",
       "1           CWD ~root command in ftpd allows root access.\n",
       "2       Buffer overflow in passwd in BSD based operati...\n",
       "3       Vulnerability in restore in SunOS 4.0.3 and ea...\n",
       "4       Vulnerability in rcp on SunOS 4.0.x allows rem...\n",
       "...                                                   ...\n",
       "197750  The VK All in One Expansion Unit WordPress plu...\n",
       "197751  The ProfileGrid WordPress plugin before 5.3.1 ...\n",
       "197752  Cross-site Scripting (XSS) - DOM in GitHub rep...\n",
       "197753  HTML Email Injection in Tribe29 Checkmk <=2.1....\n",
       "197754  CairoSVG is an SVG converter based on Cairo, a...\n",
       "\n",
       "[197755 rows x 1 columns]"
      ]
     },
     "execution_count": 17,
     "metadata": {},
     "output_type": "execute_result"
    }
   ],
   "source": [
    "descriptions"
   ]
  },
  {
   "cell_type": "code",
   "execution_count": 64,
   "id": "a62ac48c-769a-466a-859f-ef20f462f64d",
   "metadata": {
    "tags": []
   },
   "outputs": [],
   "source": [
    "from sklearn.feature_extraction.text import CountVectorizer\n",
    "\n",
    "# Create CountVectorizer object\n",
    "vectorizer = CountVectorizer()\n",
    "\n",
    "# Learn the vocabulary dictionary and transform the corpus into a document-term matrix\n",
    "X = vectorizer.fit_transform(descriptions['cve.descriptions.lang.en'])\n",
    "\n",
    "# Get the frequency count of each word in the vocabulary\n",
    "word_freq = X.sum(axis=0)\n",
    "\n",
    "# Convert the sparse matrix to a numpy array\n",
    "word_freq_array = word_freq.A[0]\n",
    "\n",
    "# Create a dictionary of word frequencies\n",
    "word_freq_dict = dict(zip(vectorizer.get_feature_names_out(), word_freq_array))"
   ]
  },
  {
   "cell_type": "code",
   "execution_count": 221,
   "id": "6b4cfeda-7490-4a00-8b9e-2ad0fff546b6",
   "metadata": {
    "tags": []
   },
   "outputs": [
    {
     "name": "stdout",
     "output_type": "stream",
     "text": [
      "segment 293\n",
      "fi 660\n",
      "lan 406\n",
      "recommended 945\n",
      "43 510\n"
     ]
    }
   ],
   "source": [
    "for word in exclusively[exclusively['class'] == \"ADJACENT_NETWORK\"].sort_values(by=['score'], ascending=[False]).head(5)['word'].values:\n",
    "    print(word,word_freq_dict[word])"
   ]
  },
  {
   "cell_type": "code",
   "execution_count": 186,
   "id": "6264a111-7b25-435d-be43-c140b9010184",
   "metadata": {
    "tags": []
   },
   "outputs": [
    {
     "data": {
      "text/plain": [
       "array(['LOCAL', 'NETWORK', 'ADJACENT_NETWORK', 'PHYSICAL'], dtype=object)"
      ]
     },
     "execution_count": 186,
     "metadata": {},
     "output_type": "execute_result"
    }
   ],
   "source": [
    "exclusively['class'].unique()"
   ]
  },
  {
   "cell_type": "markdown",
   "id": "17482c82-0cd4-4d69-b2f7-ca5a771dacae",
   "metadata": {
    "tags": []
   },
   "source": [
    "## Jomla contrib calculation"
   ]
  },
  {
   "cell_type": "code",
   "execution_count": 65,
   "id": "4632a1a2-db0b-435c-b9b8-393c120b940e",
   "metadata": {
    "tags": []
   },
   "outputs": [],
   "source": [
    "def preprocess_sentence(text):\n",
    "    # convert to lowercase\n",
    "    text = text.lower()\n",
    "\n",
    "    # remove punctuation\n",
    "    text = text.translate(str.maketrans('', '', string.punctuation))\n",
    "\n",
    "    # tokenize the text\n",
    "    tokens = word_tokenize(text)\n",
    "\n",
    "    # remove stop words\n",
    "    stop_words = set(stopwords.words('english'))\n",
    "    filtered_tokens = [word for word in tokens if word not in stop_words]\n",
    "\n",
    "    # stem the words\n",
    "    stemmer = PorterStemmer()\n",
    "    stemmed_tokens = [stemmer.stem(word) for word in filtered_tokens]\n",
    "\n",
    "    return stemmed_tokens"
   ]
  },
  {
   "cell_type": "code",
   "execution_count": 3,
   "id": "5b65d4b9-959c-4fe1-b663-df843e43aa1f",
   "metadata": {
    "tags": []
   },
   "outputs": [],
   "source": [
    "with open(\"data/word_contribution_attack_vector.json\",\"r\") as f:\n",
    "    av_wc = json.loads(f.read())"
   ]
  },
  {
   "cell_type": "code",
   "execution_count": 66,
   "id": "8398ef1b-1c63-4688-a073-98f809d387b0",
   "metadata": {
    "tags": []
   },
   "outputs": [],
   "source": [
    "descriptions = pd.read_csv('data/raw_cves.csv', usecols=['cve.descriptions.lang.en',\n",
    "                                                         'cve.metrics.cvssMetricV31.cvssData.attackVector',\n",
    "                                                        'cve.metrics.cvssMetricV31'])"
   ]
  },
  {
   "cell_type": "code",
   "execution_count": 18,
   "id": "2101bebf-8ca1-4a77-a9f1-6fbbb2d56532",
   "metadata": {
    "tags": []
   },
   "outputs": [],
   "source": [
    "label = descriptions['cve.metrics.cvssMetricV31.cvssData.attackVector'].iloc[0]\n",
    "text = preprocess_sentence(descriptions['cve.descriptions.lang.en'].iloc[0])"
   ]
  },
  {
   "cell_type": "markdown",
   "id": "f6b04b68-7a18-4467-9718-e70c6ffec3c1",
   "metadata": {},
   "source": [
    "## Classify using only one word"
   ]
  },
  {
   "cell_type": "code",
   "execution_count": 67,
   "id": "f163659a-3bf7-4a8e-be94-70a50b255451",
   "metadata": {
    "tags": []
   },
   "outputs": [],
   "source": [
    "descriptions = pd.read_csv('data/raw_cves.csv', usecols=['cve.descriptions.lang.en',\n",
    "                                                         'cve.metrics.cvssMetricV31.cvssData.attackVector',\n",
    "                                                        'cve.metrics.cvssMetricV31'])\n",
    "labels = descriptions[descriptions['cve.metrics.cvssMetricV31']==True]['cve.metrics.cvssMetricV31.cvssData.attackVector']\n",
    "texts = descriptions[descriptions['cve.metrics.cvssMetricV31']==True]['cve.descriptions.lang.en']"
   ]
  },
  {
   "cell_type": "code",
   "execution_count": 10,
   "id": "a856bff1-308d-4f99-8a7c-5c5694e19323",
   "metadata": {
    "tags": []
   },
   "outputs": [
    {
     "data": {
      "text/plain": [
       "81889"
      ]
     },
     "execution_count": 10,
     "metadata": {},
     "output_type": "execute_result"
    }
   ],
   "source": [
    "texts.shape[0]"
   ]
  },
  {
   "cell_type": "code",
   "execution_count": 138,
   "id": "63baebda-5b46-4e91-b165-b42206358232",
   "metadata": {
    "collapsed": true,
    "jupyter": {
     "outputs_hidden": true
    },
    "tags": []
   },
   "outputs": [
    {
     "name": "stderr",
     "output_type": "stream",
     "text": [
      " 44%|███████████████████████████████████▋                                             | 22/50 [00:00<00:00, 218.40it/s]"
     ]
    },
    {
     "name": "stdout",
     "output_type": "stream",
     "text": [
      "--------------------\n",
      "100\n",
      "40\n",
      "26\n",
      "27\n",
      "restrict\n",
      "vector\n",
      "--------------------\n",
      "101\n",
      "ipv6\n",
      "make\n",
      "--------------------\n",
      "102\n",
      "--------------------\n",
      "103\n",
      "restrict\n",
      "--------------------\n",
      "104\n",
      "corrupt\n",
      "--------------------\n",
      "105\n",
      "event\n",
      "event\n",
      "event\n",
      "--------------------\n",
      "106\n",
      "ipv4\n",
      "ipv6\n",
      "number\n",
      "make\n",
      "hijack\n",
      "--------------------\n",
      "107\n",
      "corrupt\n",
      "impact\n",
      "--------------------\n",
      "108\n",
      "filesystem\n",
      "--------------------\n",
      "109\n",
      "--------------------\n",
      "110\n",
      "share\n",
      "--------------------\n",
      "111\n",
      "impact\n",
      "--------------------\n",
      "112\n",
      "corrupt\n",
      "count\n",
      "--------------------\n",
      "113\n",
      "--------------------\n",
      "114\n",
      "count\n",
      "--------------------\n",
      "115\n",
      "restart\n",
      "--------------------\n",
      "116\n",
      "corrupt\n",
      "--------------------\n",
      "117\n",
      "--------------------\n",
      "118\n",
      "count\n",
      "--------------------\n",
      "119\n",
      "--------------------\n",
      "120\n",
      "40\n",
      "bug\n",
      "--------------------\n",
      "121\n",
      "30\n",
      "corrupt\n",
      "--------------------\n",
      "122\n",
      "restrict\n",
      "--------------------\n",
      "123\n",
      "esr\n",
      "thunderbird\n",
      "thunderbird\n",
      "esr\n",
      "--------------------\n",
      "124\n",
      "mysql\n",
      "vector\n",
      "--------------------\n",
      "125\n",
      "--------------------\n",
      "126\n",
      "--------------------\n",
      "127\n",
      "corrupt\n",
      "impact\n",
      "--------------------\n",
      "128\n",
      "hat\n",
      "hat\n",
      "--------------------\n",
      "129\n",
      "ethernet\n",
      "--------------------\n",
      "130\n",
      "--------------------\n",
      "131\n",
      "30\n",
      "--------------------\n",
      "132\n",
      "122\n",
      "arp\n",
      "arp\n",
      "arp\n",
      "--------------------\n",
      "133\n",
      "make\n",
      "hijack\n",
      "--------------------\n",
      "134\n",
      "--------------------\n",
      "135\n",
      "esr\n",
      "thunderbird\n",
      "corrupt\n",
      "vector\n",
      "--------------------\n",
      "136\n",
      "esr\n",
      "thunderbird\n",
      "corrupt\n",
      "vector\n",
      "--------------------\n",
      "137\n",
      "esr\n",
      "thunderbird\n",
      "restrict\n",
      "type\n",
      "impact\n",
      "vector\n",
      "--------------------\n",
      "138\n",
      "esr\n",
      "thunderbird\n",
      "corrupt\n",
      "vector\n",
      "event\n",
      "--------------------\n",
      "139\n",
      "esr\n",
      "thunderbird\n",
      "--------------------\n",
      "140\n",
      "esr\n",
      "thunderbird\n",
      "element\n"
     ]
    },
    {
     "name": "stderr",
     "output_type": "stream",
     "text": [
      "100%|█████████████████████████████████████████████████████████████████████████████████| 50/50 [00:00<00:00, 184.29it/s]"
     ]
    },
    {
     "name": "stdout",
     "output_type": "stream",
     "text": [
      "--------------------\n",
      "141\n",
      "esr\n",
      "thunderbird\n",
      "trust\n",
      "make\n",
      "--------------------\n",
      "142\n",
      "--------------------\n",
      "143\n",
      "esr\n",
      "thunderbird\n",
      "corrupt\n",
      "vector\n",
      "--------------------\n",
      "144\n",
      "esr\n",
      "thunderbird\n",
      "prevent\n",
      "restrict\n",
      "vector\n",
      "--------------------\n",
      "145\n",
      "esr\n",
      "thunderbird\n",
      "restrict\n",
      "--------------------\n",
      "146\n",
      "esr\n",
      "thunderbird\n",
      "prevent\n",
      "--------------------\n",
      "147\n",
      "esr\n",
      "thunderbird\n",
      "vector\n",
      "--------------------\n",
      "148\n",
      "esr\n",
      "thunderbird\n",
      "vector\n",
      "--------------------\n",
      "149\n",
      "icloud\n",
      "action\n",
      "icloud\n",
      "icloud\n"
     ]
    },
    {
     "name": "stderr",
     "output_type": "stream",
     "text": [
      "\n"
     ]
    }
   ],
   "source": [
    "y_preds = []\n",
    "y_true = []\n",
    "\n",
    "# if {c1: x, c2: x, c3: x} then seek highest combined scores\n",
    "texts.shape[0]\n",
    "for i in tqdm(range(100,150)):\n",
    "    try:\n",
    "        t = preprocess_sentence(texts.iloc[i])\n",
    "        print('--------------------')\n",
    "        print(i)\n",
    "        decision = pd.DataFrame(columns=['class','word','score'])\n",
    "        for word in t: \n",
    "            if word in exclusively['word'].values:\n",
    "                print(word)\n",
    "                classname = exclusively[ exclusively['word'] == word]['class'].values[0]\n",
    "                score = exclusively[ exclusively['word'] == word]['score'].values[0]\n",
    "                decision.loc[len(decision)] = [classname, word, score]\n",
    "        \n",
    "        # in case only one class\n",
    "        if decision['class'].nunique() == 1:\n",
    "            y_preds.append(decision['class'].unique())\n",
    "        else:\n",
    "            #in case there is 2 or more, append class with most frequent words\n",
    "            # y_preds.append(decision['class'].value_counts().index[0])\n",
    "            \n",
    "            # in case there is 2 or more, append class with highest sum\n",
    "            for u in decision['class'].unique():\n",
    "                curr = decision[decision['class']==u]['score'].sum()\n",
    "                if curr > s:\n",
    "                    s = curr\n",
    "                    c = u\n",
    "            y_preds.append(c)\n",
    "        y_true.append(labels.iloc[i])\n",
    "    except:\n",
    "        continue\n",
    "        #raiseError()"
   ]
  },
  {
   "cell_type": "code",
   "execution_count": 92,
   "id": "6dcd1c63-12cf-47ae-9b39-f365bc183699",
   "metadata": {
    "tags": []
   },
   "outputs": [
    {
     "data": {
      "text/plain": [
       "(81889,)"
      ]
     },
     "execution_count": 92,
     "metadata": {},
     "output_type": "execute_result"
    }
   ],
   "source": [
    "texts.shape"
   ]
  },
  {
   "cell_type": "code",
   "execution_count": 116,
   "id": "7db3386f-05bb-498f-8a3e-bacca70416df",
   "metadata": {
    "tags": []
   },
   "outputs": [
    {
     "data": {
      "text/plain": [
       "{'ADJACENT_NETWORK': 25.653034641523845,\n",
       " 'LOCAL': 0.0,\n",
       " 'NETWORK': 1.3566928769923834,\n",
       " 'PHYSICAL': 0.0}"
      ]
     },
     "execution_count": 116,
     "metadata": {},
     "output_type": "execute_result"
    }
   ],
   "source": [
    "av_wc['00']"
   ]
  },
  {
   "cell_type": "code",
   "execution_count": 142,
   "id": "0d34ccaf-c2a6-47a4-96bd-5d258badf097",
   "metadata": {
    "tags": []
   },
   "outputs": [
    {
     "name": "stdout",
     "output_type": "stream",
     "text": [
      "Reflected Cross-Site Scripting (XSS) vulnerability in Mickael Austoni Map Multi Marker plugin <= 3.2.1 versions. NETWORK\n"
     ]
    }
   ],
   "source": [
    "i=81879\n",
    "print(texts.iloc[i], labels.iloc[i])"
   ]
  },
  {
   "cell_type": "code",
   "execution_count": 145,
   "id": "01cfc70d-537a-4fb0-a935-27ac97449c6a",
   "metadata": {
    "tags": []
   },
   "outputs": [
    {
     "name": "stdout",
     "output_type": "stream",
     "text": [
      "{'ADJACENT_NETWORK': 0.20208131907941151, 'NETWORK': 0.0, 'LOCAL': 2.2253091946813583, 'PHYSICAL': 0.0}\n",
      "{'ADJACENT_NETWORK': 0.20208131907941151, 'NETWORK': 0.0, 'LOCAL': 2.2253091946813583, 'PHYSICAL': 0.0}\n",
      "{'ADJACENT_NETWORK': 0.20208131907941151, 'NETWORK': 0.0, 'LOCAL': 2.2253091946813583, 'PHYSICAL': 0.0}\n",
      "{'ADJACENT_NETWORK': 0.20208131907941151, 'NETWORK': 0.0, 'LOCAL': 2.2253091946813583, 'PHYSICAL': 0.0}\n",
      "{'ADJACENT_NETWORK': 48.91864615207305, 'NETWORK': 2228.1309691227507, 'LOCAL': 1794.8776006004773, 'PHYSICAL': 0.0}\n",
      "{'ADJACENT_NETWORK': 48.91864615207305, 'NETWORK': 2228.1309691227507, 'LOCAL': 1794.8776006004773, 'PHYSICAL': 0.0}\n",
      "{'ADJACENT_NETWORK': 48.91864615207305, 'NETWORK': 2228.1309691227507, 'LOCAL': 1794.8776006004773, 'PHYSICAL': 0.0}\n",
      "{'ADJACENT_NETWORK': 48.91864615207305, 'NETWORK': 2228.1309691227507, 'LOCAL': 1794.8776006004773, 'PHYSICAL': 0.0}\n",
      "{'ADJACENT_NETWORK': 0.0, 'NETWORK': 0.0, 'LOCAL': 0.0, 'PHYSICAL': 0.9134382129395817}\n",
      "{'ADJACENT_NETWORK': 0.0, 'NETWORK': 0.0, 'LOCAL': 0.0, 'PHYSICAL': 0.9134382129395817}\n",
      "{'ADJACENT_NETWORK': 0.0, 'NETWORK': 0.0, 'LOCAL': 0.0, 'PHYSICAL': 0.9134382129395817}\n",
      "{'ADJACENT_NETWORK': 0.0, 'NETWORK': 0.0, 'LOCAL': 0.0, 'PHYSICAL': 0.9134382129395817}\n",
      "{'ADJACENT_NETWORK': 0.0, 'NETWORK': 409.8902708780315, 'LOCAL': 211.89999482766143, 'PHYSICAL': 297.18931643106043}\n",
      "{'ADJACENT_NETWORK': 0.0, 'NETWORK': 409.8902708780315, 'LOCAL': 211.89999482766143, 'PHYSICAL': 297.18931643106043}\n",
      "{'ADJACENT_NETWORK': 0.0, 'NETWORK': 409.8902708780315, 'LOCAL': 211.89999482766143, 'PHYSICAL': 297.18931643106043}\n",
      "{'ADJACENT_NETWORK': 0.0, 'NETWORK': 409.8902708780315, 'LOCAL': 211.89999482766143, 'PHYSICAL': 297.18931643106043}\n",
      "{'ADJACENT_NETWORK': 6.485249076171385, 'NETWORK': 23.31102921628917, 'LOCAL': 15.985360089184269, 'PHYSICAL': 8.836267688262524}\n",
      "{'ADJACENT_NETWORK': 6.485249076171385, 'NETWORK': 23.31102921628917, 'LOCAL': 15.985360089184269, 'PHYSICAL': 8.836267688262524}\n",
      "{'ADJACENT_NETWORK': 6.485249076171385, 'NETWORK': 23.31102921628917, 'LOCAL': 15.985360089184269, 'PHYSICAL': 8.836267688262524}\n",
      "{'ADJACENT_NETWORK': 6.485249076171385, 'NETWORK': 23.31102921628917, 'LOCAL': 15.985360089184269, 'PHYSICAL': 8.836267688262524}\n"
     ]
    }
   ],
   "source": [
    "i = 81879\n",
    "text = preprocess_sentence(texts.iloc[i])\n",
    "scores = {\n",
    "    \"ADJACENT_NETWORK\": 0,\n",
    "    \"NETWORK\": 0,\n",
    "    \"LOCAL\": 0,\n",
    "    \"PHYSICAL\": 0\n",
    "}\n",
    "l = []\n",
    "for word in text:\n",
    "    l.append(word)\n",
    "    try:\n",
    "        for key,value in av_wc[word].items():\n",
    "            scores['ADJACENT_NETWORK'] = av_wc[word]['ADJACENT_NETWORK']\n",
    "            scores['NETWORK'] = av_wc[word]['NETWORK']\n",
    "            scores['LOCAL'] = av_wc[word]['LOCAL']\n",
    "            scores['PHYSICAL'] = av_wc[word]['PHYSICAL']\n",
    "            print(scores)\n",
    "    except:\n",
    "        continue\n"
   ]
  },
  {
   "cell_type": "code",
   "execution_count": 146,
   "id": "5c195226-7af7-4d78-914b-576bd405ea3a",
   "metadata": {
    "tags": []
   },
   "outputs": [],
   "source": [
    "labels = ['ADJACENT_NETWORK', 'LOCAL', 'NETWORK' ,'PHYSICAL']\n",
    "labels.insert(0,\"Word\")"
   ]
  },
  {
   "cell_type": "code",
   "execution_count": 147,
   "id": "6453a9fd-ad29-41a6-8716-39abb068a84d",
   "metadata": {
    "tags": []
   },
   "outputs": [],
   "source": [
    "sentence_score = pd.DataFrame(columns=labels)\n",
    "\n",
    "for word in text:\n",
    "    try:\n",
    "        l = [word] \n",
    "        for key,value in av_wc[word].items():\n",
    "            l.append(value)\n",
    "\n",
    "        sentence_score.loc[len(sentence_score)] = l\n",
    "    except:\n",
    "        continue"
   ]
  },
  {
   "cell_type": "code",
   "execution_count": 148,
   "id": "5cc7bcb6-ce0d-425f-a79d-029fee65f7a9",
   "metadata": {
    "tags": []
   },
   "outputs": [
    {
     "data": {
      "text/html": [
       "<div>\n",
       "<style scoped>\n",
       "    .dataframe tbody tr th:only-of-type {\n",
       "        vertical-align: middle;\n",
       "    }\n",
       "\n",
       "    .dataframe tbody tr th {\n",
       "        vertical-align: top;\n",
       "    }\n",
       "\n",
       "    .dataframe thead th {\n",
       "        text-align: right;\n",
       "    }\n",
       "</style>\n",
       "<table border=\"1\" class=\"dataframe\">\n",
       "  <thead>\n",
       "    <tr style=\"text-align: right;\">\n",
       "      <th></th>\n",
       "      <th>0</th>\n",
       "      <th>1</th>\n",
       "      <th>2</th>\n",
       "      <th>3</th>\n",
       "      <th>4</th>\n",
       "    </tr>\n",
       "  </thead>\n",
       "  <tbody>\n",
       "    <tr>\n",
       "      <th>Word</th>\n",
       "      <td>script</td>\n",
       "      <td>xss</td>\n",
       "      <td>map</td>\n",
       "      <td>plugin</td>\n",
       "      <td>version</td>\n",
       "    </tr>\n",
       "    <tr>\n",
       "      <th>ADJACENT_NETWORK</th>\n",
       "      <td>0.202081</td>\n",
       "      <td>48.918646</td>\n",
       "      <td>0.0</td>\n",
       "      <td>0.0</td>\n",
       "      <td>6.485249</td>\n",
       "    </tr>\n",
       "    <tr>\n",
       "      <th>LOCAL</th>\n",
       "      <td>2.225309</td>\n",
       "      <td>1794.877601</td>\n",
       "      <td>0.0</td>\n",
       "      <td>211.899995</td>\n",
       "      <td>15.98536</td>\n",
       "    </tr>\n",
       "    <tr>\n",
       "      <th>NETWORK</th>\n",
       "      <td>0.0</td>\n",
       "      <td>2228.130969</td>\n",
       "      <td>0.0</td>\n",
       "      <td>409.890271</td>\n",
       "      <td>23.311029</td>\n",
       "    </tr>\n",
       "    <tr>\n",
       "      <th>PHYSICAL</th>\n",
       "      <td>0.0</td>\n",
       "      <td>0.0</td>\n",
       "      <td>0.913438</td>\n",
       "      <td>297.189316</td>\n",
       "      <td>8.836268</td>\n",
       "    </tr>\n",
       "  </tbody>\n",
       "</table>\n",
       "</div>"
      ],
      "text/plain": [
       "                         0            1         2           3          4\n",
       "Word                script          xss       map      plugin    version\n",
       "ADJACENT_NETWORK  0.202081    48.918646       0.0         0.0   6.485249\n",
       "LOCAL             2.225309  1794.877601       0.0  211.899995   15.98536\n",
       "NETWORK                0.0  2228.130969       0.0  409.890271  23.311029\n",
       "PHYSICAL               0.0          0.0  0.913438  297.189316   8.836268"
      ]
     },
     "execution_count": 148,
     "metadata": {},
     "output_type": "execute_result"
    }
   ],
   "source": [
    "sentence_score.T"
   ]
  },
  {
   "cell_type": "code",
   "execution_count": 150,
   "id": "caf9b8c1-80b8-4578-83ed-9e568dbf8379",
   "metadata": {
    "tags": []
   },
   "outputs": [
    {
     "data": {
      "text/plain": [
       "'ADJACENT_NETWORK'"
      ]
     },
     "execution_count": 150,
     "metadata": {},
     "output_type": "execute_result"
    }
   ],
   "source": [
    "y_true[32]"
   ]
  },
  {
   "cell_type": "code",
   "execution_count": 151,
   "id": "4fb656cc-6545-416e-b57d-420ff81a7bbc",
   "metadata": {
    "tags": []
   },
   "outputs": [
    {
     "name": "stdout",
     "output_type": "stream",
     "text": [
      "Integer signedness error in the CIFSFindNext function in fs/cifs/cifssmb.c in the Linux kernel before 3.1 allows remote CIFS servers to cause a denial of service (memory corruption) or possibly have unspecified other impact via a large length value in a response to a read request for a directory.\n",
      "\n",
      "Juniper Junos 10.4 before 10.4S15, 11.4 before 11.4R9, 11.4X27 before 11.4X27.44, 12.1 before 12.1R7, 12.1X44 before 12.1X44-D20, 12.1X45 before 12.1X45-D15, 12.2 before 12.2R6, 12.3 before 12.3R3, 13.1 before 13.1R3, and 13.2 before 13.2R1, when Proxy ARP is enabled on an unnumbered interface, allows remote attackers to perform ARP poisoning attacks and possibly obtain sensitive information via a crafted ARP message.\n"
     ]
    }
   ],
   "source": [
    "print(texts.iloc[107])\n",
    "\n",
    "## corrupt / impact\n",
    "print()\n",
    "print(texts.iloc[132])\n",
    "\n",
    "#122 arp arp"
   ]
  },
  {
   "cell_type": "code",
   "execution_count": 113,
   "id": "60c09617-d562-4184-99b8-14e0dde9609d",
   "metadata": {
    "tags": []
   },
   "outputs": [
    {
     "name": "stdout",
     "output_type": "stream",
     "text": [
      "81889 81889\n",
      "1.0\n"
     ]
    }
   ],
   "source": [
    "print(len(y_preds),len(y_true))\n",
    "print(len(y_preds)/labels.shape[0])"
   ]
  },
  {
   "cell_type": "code",
   "execution_count": 114,
   "id": "70b52212-f20f-41a5-a7e8-e7c45a51033f",
   "metadata": {
    "tags": []
   },
   "outputs": [],
   "source": [
    "y_preds = [x[0] if type(x) == np.ndarray else x for x in y_preds]"
   ]
  },
  {
   "cell_type": "code",
   "execution_count": 115,
   "id": "0c86cc60-01cd-4d1f-a772-90b04bc7513d",
   "metadata": {
    "tags": []
   },
   "outputs": [
    {
     "name": "stdout",
     "output_type": "stream",
     "text": [
      "Accuracy:  0.024227918279622417\n",
      "F1:  0.04730962288221478\n"
     ]
    }
   ],
   "source": [
    "from sklearn.metrics import accuracy_score,f1_score\n",
    "\n",
    "print(\"Accuracy: \", accuracy_score(y_preds,y_true))\n",
    "print('F1: ', f1_score(y_preds,y_true,average=\"weighted\"))"
   ]
  },
  {
   "cell_type": "code",
   "execution_count": 69,
   "id": "94dc68d8-b704-4267-a4ee-9a8db39e7310",
   "metadata": {
    "tags": []
   },
   "outputs": [
    {
     "data": {
      "text/plain": [
       "194       ScriptAlias directory in NCSA and Apache httpd...\n",
       "8217      Cross-site scripting (XSS) vulnerability in th...\n",
       "31380     The DNS protocol, as implemented in (1) BIND 8...\n",
       "31393     The Linux kernel before 2.6.25.10 does not pro...\n",
       "31401     The do_change_type function in fs/namespace.c ...\n",
       "                                ...                        \n",
       "197728    savg-sanitizer is a PHP SVG/XML Sanitizer. A b...\n",
       "197730    PDFio is a C library for reading and writing P...\n",
       "197731    Pimcore is an open source data and experience ...\n",
       "197753    HTML Email Injection in Tribe29 Checkmk <=2.1....\n",
       "197754    CairoSVG is an SVG converter based on Cairo, a...\n",
       "Name: cve.descriptions.lang.en, Length: 81889, dtype: object"
      ]
     },
     "execution_count": 69,
     "metadata": {},
     "output_type": "execute_result"
    }
   ],
   "source": [
    "texts."
   ]
  },
  {
   "cell_type": "markdown",
   "id": "5f0ee55a-7170-48dd-a317-ae8e5c989976",
   "metadata": {},
   "source": [
    "## B9iya"
   ]
  },
  {
   "cell_type": "code",
   "execution_count": 87,
   "id": "818162c1-d69f-43c5-8794-79915e563977",
   "metadata": {
    "tags": []
   },
   "outputs": [
    {
     "data": {
      "text/plain": [
       "['debug',\n",
       " 'command',\n",
       " 'sendmail',\n",
       " 'enabl',\n",
       " 'allow',\n",
       " 'attack',\n",
       " 'execut',\n",
       " 'command',\n",
       " 'root']"
      ]
     },
     "execution_count": 87,
     "metadata": {},
     "output_type": "execute_result"
    }
   ],
   "source": [
    "text"
   ]
  },
  {
   "cell_type": "code",
   "execution_count": 101,
   "id": "cc2fc83e-e1e3-4d46-aa63-d72819c40b09",
   "metadata": {
    "tags": []
   },
   "outputs": [],
   "source": [
    "labels = ['ADJACENT_NETWORK', 'LOCAL', 'NETWORK' ,'PHYSICAL']\n",
    "labels.insert(0,\"Word\")"
   ]
  },
  {
   "cell_type": "code",
   "execution_count": 103,
   "id": "022b872f-0e58-4215-b4ec-28b3747b9fd2",
   "metadata": {
    "collapsed": true,
    "jupyter": {
     "outputs_hidden": true
    },
    "tags": []
   },
   "outputs": [
    {
     "data": {
      "text/html": [
       "<div>\n",
       "<style scoped>\n",
       "    .dataframe tbody tr th:only-of-type {\n",
       "        vertical-align: middle;\n",
       "    }\n",
       "\n",
       "    .dataframe tbody tr th {\n",
       "        vertical-align: top;\n",
       "    }\n",
       "\n",
       "    .dataframe thead th {\n",
       "        text-align: right;\n",
       "    }\n",
       "</style>\n",
       "<table border=\"1\" class=\"dataframe\">\n",
       "  <thead>\n",
       "    <tr style=\"text-align: right;\">\n",
       "      <th></th>\n",
       "      <th>Word</th>\n",
       "      <th>ADJACENT_NETWORK</th>\n",
       "      <th>LOCAL</th>\n",
       "      <th>NETWORK</th>\n",
       "      <th>PHYSICAL</th>\n",
       "    </tr>\n",
       "  </thead>\n",
       "  <tbody>\n",
       "    <tr>\n",
       "      <th>0</th>\n",
       "      <td>debug</td>\n",
       "      <td>0.000000</td>\n",
       "      <td>0.000000</td>\n",
       "      <td>0.000000</td>\n",
       "      <td>16.540249</td>\n",
       "    </tr>\n",
       "    <tr>\n",
       "      <th>1</th>\n",
       "      <td>command</td>\n",
       "      <td>2.856664</td>\n",
       "      <td>105.530024</td>\n",
       "      <td>42.480677</td>\n",
       "      <td>139.686861</td>\n",
       "    </tr>\n",
       "    <tr>\n",
       "      <th>2</th>\n",
       "      <td>allow</td>\n",
       "      <td>146.208301</td>\n",
       "      <td>77.242386</td>\n",
       "      <td>110.200543</td>\n",
       "      <td>456.734664</td>\n",
       "    </tr>\n",
       "    <tr>\n",
       "      <th>3</th>\n",
       "      <td>attack</td>\n",
       "      <td>90.422684</td>\n",
       "      <td>6.392920</td>\n",
       "      <td>9.739213</td>\n",
       "      <td>284.401193</td>\n",
       "    </tr>\n",
       "    <tr>\n",
       "      <th>4</th>\n",
       "      <td>command</td>\n",
       "      <td>2.856664</td>\n",
       "      <td>105.530024</td>\n",
       "      <td>42.480677</td>\n",
       "      <td>139.686861</td>\n",
       "    </tr>\n",
       "    <tr>\n",
       "      <th>5</th>\n",
       "      <td>root</td>\n",
       "      <td>0.000000</td>\n",
       "      <td>4.359213</td>\n",
       "      <td>40.576504</td>\n",
       "      <td>9.453803</td>\n",
       "    </tr>\n",
       "  </tbody>\n",
       "</table>\n",
       "</div>"
      ],
      "text/plain": [
       "      Word  ADJACENT_NETWORK       LOCAL     NETWORK    PHYSICAL\n",
       "0    debug          0.000000    0.000000    0.000000   16.540249\n",
       "1  command          2.856664  105.530024   42.480677  139.686861\n",
       "2    allow        146.208301   77.242386  110.200543  456.734664\n",
       "3   attack         90.422684    6.392920    9.739213  284.401193\n",
       "4  command          2.856664  105.530024   42.480677  139.686861\n",
       "5     root          0.000000    4.359213   40.576504    9.453803"
      ]
     },
     "execution_count": 103,
     "metadata": {},
     "output_type": "execute_result"
    }
   ],
   "source": [
    "sentence_score = pd.DataFrame(columns=labels)\n",
    "\n",
    "for word in text:\n",
    "    try:\n",
    "        l = [word] \n",
    "        for key,value in av_wc[word].items():\n",
    "            l.append(value)\n",
    "\n",
    "        sentence_score.loc[len(sentence_score)] = l\n",
    "    except:\n",
    "        continue"
   ]
  },
  {
   "cell_type": "code",
   "execution_count": 107,
   "id": "4d7f87ea-b3d4-4fba-97b8-814a197563f4",
   "metadata": {
    "tags": []
   },
   "outputs": [
    {
     "data": {
      "text/html": [
       "<div>\n",
       "<style scoped>\n",
       "    .dataframe tbody tr th:only-of-type {\n",
       "        vertical-align: middle;\n",
       "    }\n",
       "\n",
       "    .dataframe tbody tr th {\n",
       "        vertical-align: top;\n",
       "    }\n",
       "\n",
       "    .dataframe thead th {\n",
       "        text-align: right;\n",
       "    }\n",
       "</style>\n",
       "<table border=\"1\" class=\"dataframe\">\n",
       "  <thead>\n",
       "    <tr style=\"text-align: right;\">\n",
       "      <th></th>\n",
       "      <th>0</th>\n",
       "      <th>1</th>\n",
       "      <th>2</th>\n",
       "      <th>3</th>\n",
       "      <th>4</th>\n",
       "      <th>5</th>\n",
       "    </tr>\n",
       "  </thead>\n",
       "  <tbody>\n",
       "    <tr>\n",
       "      <th>Word</th>\n",
       "      <td>debug</td>\n",
       "      <td>command</td>\n",
       "      <td>allow</td>\n",
       "      <td>attack</td>\n",
       "      <td>command</td>\n",
       "      <td>root</td>\n",
       "    </tr>\n",
       "    <tr>\n",
       "      <th>ADJACENT_NETWORK</th>\n",
       "      <td>0.0</td>\n",
       "      <td>2.856664</td>\n",
       "      <td>146.208301</td>\n",
       "      <td>90.422684</td>\n",
       "      <td>2.856664</td>\n",
       "      <td>0.0</td>\n",
       "    </tr>\n",
       "    <tr>\n",
       "      <th>LOCAL</th>\n",
       "      <td>0.0</td>\n",
       "      <td>105.530024</td>\n",
       "      <td>77.242386</td>\n",
       "      <td>6.39292</td>\n",
       "      <td>105.530024</td>\n",
       "      <td>4.359213</td>\n",
       "    </tr>\n",
       "    <tr>\n",
       "      <th>NETWORK</th>\n",
       "      <td>0.0</td>\n",
       "      <td>42.480677</td>\n",
       "      <td>110.200543</td>\n",
       "      <td>9.739213</td>\n",
       "      <td>42.480677</td>\n",
       "      <td>40.576504</td>\n",
       "    </tr>\n",
       "    <tr>\n",
       "      <th>PHYSICAL</th>\n",
       "      <td>16.540249</td>\n",
       "      <td>139.686861</td>\n",
       "      <td>456.734664</td>\n",
       "      <td>284.401193</td>\n",
       "      <td>139.686861</td>\n",
       "      <td>9.453803</td>\n",
       "    </tr>\n",
       "  </tbody>\n",
       "</table>\n",
       "</div>"
      ],
      "text/plain": [
       "                          0           1           2           3           4  \\\n",
       "Word                  debug     command       allow      attack     command   \n",
       "ADJACENT_NETWORK        0.0    2.856664  146.208301   90.422684    2.856664   \n",
       "LOCAL                   0.0  105.530024   77.242386     6.39292  105.530024   \n",
       "NETWORK                 0.0   42.480677  110.200543    9.739213   42.480677   \n",
       "PHYSICAL          16.540249  139.686861  456.734664  284.401193  139.686861   \n",
       "\n",
       "                          5  \n",
       "Word                   root  \n",
       "ADJACENT_NETWORK        0.0  \n",
       "LOCAL              4.359213  \n",
       "NETWORK           40.576504  \n",
       "PHYSICAL           9.453803  "
      ]
     },
     "execution_count": 107,
     "metadata": {},
     "output_type": "execute_result"
    }
   ],
   "source": [
    "sentence_score.T"
   ]
  },
  {
   "cell_type": "markdown",
   "id": "83f2fa59-365f-48d8-82a2-5ee352da2a28",
   "metadata": {},
   "source": [
    "## frequency in class"
   ]
  },
  {
   "cell_type": "code",
   "execution_count": 230,
   "id": "26811694-fe03-43ff-9179-fe71024ea3a4",
   "metadata": {
    "tags": []
   },
   "outputs": [
    {
     "name": "stdout",
     "output_type": "stream",
     "text": [
      "ADJACENT_NETWORK\n",
      "94\n",
      "86\n",
      "59\n",
      "16\n",
      "LOCAL\n",
      "31\n",
      "836\n",
      "43\n",
      "162\n",
      "NETWORK\n",
      "7184\n",
      "2049\n",
      "423\n",
      "204\n",
      "PHYSICAL\n",
      "74\n",
      "71\n",
      "63\n",
      "24\n"
     ]
    }
   ],
   "source": [
    "with open(f'data/attackVector/label_mapping.txt') as f:\n",
    "    content = f.read().replace(\"'\",'\"')\n",
    "    class_names = list(json.loads(content).keys())\n",
    "\n",
    "train = pd.read_csv(f'data/attackVector/train.csv')\n",
    "test = pd.read_csv(f'data/attackVector/test.csv')\n",
    "alltext = pd.concat([train,test])\n",
    "\n",
    "thedict = {}\n",
    "for i,c in enumerate(class_names):\n",
    "    thedict.update({\n",
    "        i:c\n",
    "    })\n",
    "\n",
    "alltext['labels'] = alltext['labels'].map(thedict)\n",
    "\n",
    "for name in class_names:\n",
    "    print(name)\n",
    "    subset = alltext[alltext['labels'] == name]['text']\n",
    "\n",
    "    # Create CountVectorizer object\n",
    "    vectorizer = CountVectorizer()\n",
    "\n",
    "    # Learn the vocabulary dictionary and transform the corpus into a document-term matrix\n",
    "    X = vectorizer.fit_transform(subset)\n",
    "\n",
    "    # Get the frequency count of each word in the vocabulary\n",
    "    word_freq = X.sum(axis=0)\n",
    "\n",
    "    # Convert the sparse matrix to a numpy array\n",
    "    word_freq_array = word_freq.A[0]\n",
    "\n",
    "    # Create a dictionary of word frequencies\n",
    "    word_freq_dict = dict(zip(vectorizer.get_feature_names_out(), word_freq_array))\n",
    "\n",
    "    for word in exclusively[exclusively['class'] == name].sort_values(by=['score'], ascending=[False]).head(4)['word'].values:\n",
    "        print(word_freq_dict[word])"
   ]
  },
  {
   "cell_type": "code",
   "execution_count": 41,
   "id": "4dbde706-66a1-44fc-bc8d-6c8aa166e15b",
   "metadata": {
    "tags": []
   },
   "outputs": [],
   "source": [
    "from sklearn.feature_extraction.text import TfidfVectorizer\n",
    "import pandas as pd\n",
    "import os\n",
    "from xgboost import XGBClassifier\n",
    "from sklearn.metrics import f1_score, accuracy_score\n",
    "import json\n",
    "import numpy as np\n",
    "from tqdm import tqdm\n",
    "import xgboost as xgb\n",
    "from collections import defaultdict"
   ]
  },
  {
   "cell_type": "markdown",
   "id": "b7571cf9-6e6b-4498-bfbf-b9ae74a6e09e",
   "metadata": {},
   "source": [
    "there are many functions i can generate:\n",
    "\n",
    "1) given shap values, return top words for a given class for a given thresshold\n",
    "\n",
    "2) for a given sentence, sum its words contributions and make a final analysis.\n",
    "\n",
    "To do both of these, we need to reshape our given shap array which currelty is [class[rows[columns]]]\n",
    "needs to become [column[row[class]"
   ]
  },
  {
   "cell_type": "markdown",
   "id": "6eb61379-37e4-40d2-a9cf-cc302bd51917",
   "metadata": {
    "tags": []
   },
   "source": [
    "## Global Explanations"
   ]
  },
  {
   "cell_type": "markdown",
   "id": "526dabd2-2cb9-4a78-bce0-f5159bbad50b",
   "metadata": {
    "jp-MarkdownHeadingCollapsed": true,
    "tags": []
   },
   "source": [
    "### Privileges Required"
   ]
  },
  {
   "cell_type": "code",
   "execution_count": 11,
   "id": "4f1a96d6-d38d-47db-835c-55f63946b85f",
   "metadata": {
    "tags": []
   },
   "outputs": [
    {
     "data": {
      "image/png": "[encoded data removed]",
      "text/plain": [
       "<Figure size 800x950 with 1 Axes>"
      ]
     },
     "metadata": {},
     "output_type": "display_data"
    }
   ],
   "source": [
    "shap.summary_plot(PR_shap_values, PR_samples,max_display=20, class_names=PR_class_names, plot_type=\"bar\")"
   ]
  },
  {
   "cell_type": "markdown",
   "id": "b70de84a-f46b-4655-89c6-d6e6528a206a",
   "metadata": {
    "jp-MarkdownHeadingCollapsed": true,
    "tags": []
   },
   "source": [
    "### Attack Vector"
   ]
  },
  {
   "cell_type": "code",
   "execution_count": 51,
   "id": "1898bdb6-3ee2-4914-a41b-70e4358e7b7f",
   "metadata": {
    "tags": []
   },
   "outputs": [
    {
     "data": {
      "image/png": "[encoded data removed]",
      "text/plain": [
       "<Figure size 800x950 with 1 Axes>"
      ]
     },
     "metadata": {},
     "output_type": "display_data"
    }
   ],
   "source": [
    "shap.multioutput_decision_plot(AV_expected_value, AV_shap_values, 0)"
   ]
  },
  {
   "cell_type": "code",
   "execution_count": 17,
   "id": "6213ad4a-6176-4ed1-ad82-fff5c76004ac",
   "metadata": {
    "tags": []
   },
   "outputs": [
    {
     "data": {
      "image/png": "[encoded data removed]",
      "text/plain": [
       "<Figure size 800x950 with 1 Axes>"
      ]
     },
     "metadata": {},
     "output_type": "display_data"
    }
   ],
   "source": [
    "shap.summary_plot(AV_shap_values, AV_samples, max_display=20, cmap='Accent', class_names=AV_class_names, plot_type=\"bar\")\n",
    "# extract the numbers and give a by class analysis"
   ]
  },
  {
   "cell_type": "code",
   "execution_count": 78,
   "id": "bc5be9fc-6222-4e18-bd2b-8b8fc77d3379",
   "metadata": {
    "collapsed": true,
    "jupyter": {
     "outputs_hidden": true
    },
    "tags": []
   },
   "outputs": [
    {
     "ename": "AttributeError",
     "evalue": "'list' object has no attribute 'shape'",
     "output_type": "error",
     "traceback": [
      "\u001b[1;31m---------------------------------------------------------------------------\u001b[0m",
      "\u001b[1;31mAttributeError\u001b[0m                            Traceback (most recent call last)",
      "Cell \u001b[1;32mIn[78], line 1\u001b[0m\n\u001b[1;32m----> 1\u001b[0m \u001b[43mshap\u001b[49m\u001b[38;5;241;43m.\u001b[39;49m\u001b[43mtext_plot\u001b[49m\u001b[43m(\u001b[49m\u001b[43mshap_values\u001b[49m\u001b[43m,\u001b[49m\u001b[38;5;241;43m9\u001b[39;49m\u001b[43m)\u001b[49m\n",
      "File \u001b[1;32m~\\AppData\\Local\\Programs\\Python\\Python310\\lib\\site-packages\\shap\\plots\\_text.py:70\u001b[0m, in \u001b[0;36mtext\u001b[1;34m(shap_values, num_starting_labels, grouping_threshold, separator, xmin, xmax, cmax, display)\u001b[0m\n\u001b[0;32m     67\u001b[0m uuid \u001b[38;5;241m=\u001b[39m \u001b[38;5;124m'\u001b[39m\u001b[38;5;124m'\u001b[39m\u001b[38;5;241m.\u001b[39mjoin(random\u001b[38;5;241m.\u001b[39mchoices(string\u001b[38;5;241m.\u001b[39mascii_lowercase, k\u001b[38;5;241m=\u001b[39m\u001b[38;5;241m20\u001b[39m))\n\u001b[0;32m     69\u001b[0m \u001b[38;5;66;03m# loop when we get multi-row inputs\u001b[39;00m\n\u001b[1;32m---> 70\u001b[0m \u001b[38;5;28;01mif\u001b[39;00m \u001b[38;5;28mlen\u001b[39m(\u001b[43mshap_values\u001b[49m\u001b[38;5;241;43m.\u001b[39;49m\u001b[43mshape\u001b[49m) \u001b[38;5;241m==\u001b[39m \u001b[38;5;241m2\u001b[39m \u001b[38;5;129;01mand\u001b[39;00m (shap_values\u001b[38;5;241m.\u001b[39moutput_names \u001b[38;5;129;01mis\u001b[39;00m \u001b[38;5;28;01mNone\u001b[39;00m \u001b[38;5;129;01mor\u001b[39;00m \u001b[38;5;28misinstance\u001b[39m(shap_values\u001b[38;5;241m.\u001b[39moutput_names, \u001b[38;5;28mstr\u001b[39m)):\n\u001b[0;32m     71\u001b[0m     xmin \u001b[38;5;241m=\u001b[39m \u001b[38;5;241m0\u001b[39m\n\u001b[0;32m     72\u001b[0m     xmax \u001b[38;5;241m=\u001b[39m \u001b[38;5;241m0\u001b[39m\n",
      "\u001b[1;31mAttributeError\u001b[0m: 'list' object has no attribute 'shape'"
     ]
    }
   ],
   "source": [
    "shap.text_plot(shap_values,9)"
   ]
  },
  {
   "cell_type": "markdown",
   "id": "1198e775-9852-4e9f-987c-cb84f66012c5",
   "metadata": {
    "tags": []
   },
   "source": [
    "## local Explanations"
   ]
  },
  {
   "cell_type": "code",
   "execution_count": null,
   "id": "7b58124d-e392-44c6-a0dc-6b9c2ae4396d",
   "metadata": {},
   "outputs": [],
   "source": [
    "import shap\n",
    "S_samples = valid_texts\n",
    "S_explainer, S_shap_values, S_expected_value, S_class_names = build_shap_values(\"scope\", PR_samples)\n",
    "S_class_names"
   ]
  },
  {
   "cell_type": "code",
   "execution_count": null,
   "id": "53ac7be3-ccdc-4eb3-96ca-bf5b19134bb3",
   "metadata": {},
   "outputs": [],
   "source": [
    "shap.initjs()\n",
    "shap.force_plot(S_expected_value, S_shap_values[0],feature_names=valid_texts.columns)"
   ]
  }
 ],
 "metadata": {
  "kernelspec": {
   "display_name": "Python 3 (ipykernel)",
   "language": "python",
   "name": "python3"
  },
  "language_info": {
   "codemirror_mode": {
    "name": "ipython",
    "version": 3
   },
   "file_extension": ".py",
   "mimetype": "text/x-python",
   "name": "python",
   "nbconvert_exporter": "python",
   "pygments_lexer": "ipython3",
   "version": "3.10.10"
  }
 },
 "nbformat": 4,
 "nbformat_minor": 5
}
