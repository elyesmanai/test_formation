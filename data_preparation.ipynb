{
 "cells": [
  {
   "cell_type": "code",
   "execution_count": 2,
   "id": "3359d863-39f6-4d1e-9b65-69e7f1646b6e",
   "metadata": {
    "tags": []
   },
   "outputs": [],
   "source": [
    "import pandas as pd\n",
    "import numpy as np\n",
    "from tqdm import tqdm\n",
    "import os\n",
    "import json\n",
    "from sklearn.preprocessing import LabelEncoder\n",
    "from sklearn.model_selection import train_test_split"
   ]
  },
  {
   "cell_type": "code",
   "execution_count": 3,
   "id": "b947d7ab-17c0-4593-ab56-f1064f3ae88a",
   "metadata": {
    "tags": []
   },
   "outputs": [],
   "source": [
    "# all targets are categorical\n",
    "def target_columns(version):\n",
    "    return [\n",
    "          f'cve.metrics.cvssMetricV{version}.cvssData.attackVector',\n",
    "          f'cve.metrics.cvssMetricV{version}.cvssData.attackComplexity',\n",
    "          f'cve.metrics.cvssMetricV{version}.cvssData.privilegesRequired',\n",
    "          f'cve.metrics.cvssMetricV{version}.cvssData.userInteraction',\n",
    "          f'cve.metrics.cvssMetricV{version}.cvssData.scope',\n",
    "          f'cve.metrics.cvssMetricV{version}.cvssData.confidentialityImpact',\n",
    "          f'cve.metrics.cvssMetricV{version}.cvssData.integrityImpact',\n",
    "          f'cve.metrics.cvssMetricV{version}.cvssData.availabilityImpact'\n",
    "      ]"
   ]
  },
  {
   "cell_type": "code",
   "execution_count": 4,
   "id": "89de169d-8472-471b-87f6-905ec8a92b12",
   "metadata": {
    "tags": []
   },
   "outputs": [
    {
     "name": "stderr",
     "output_type": "stream",
     "text": [
      "C:\\Users\\elyes\\AppData\\Local\\Temp\\ipykernel_11380\\2092503873.py:1: DtypeWarning: Columns (13,19,20,21,22,23,40,41,44,45,46,47,48,52,53,54,55,56,57,58,59,60,62,63,84) have mixed types. Specify dtype option on import or set low_memory=False.\n",
      "  cves = pd.read_csv('data/raw_cves.csv')\n"
     ]
    },
    {
     "data": {
      "text/plain": [
       "(197755, 87)"
      ]
     },
     "execution_count": 4,
     "metadata": {},
     "output_type": "execute_result"
    }
   ],
   "source": [
    "cves = pd.read_csv('data/raw_cves.csv')\n",
    "cves.shape"
   ]
  },
  {
   "cell_type": "code",
   "execution_count": null,
   "id": "687f4d99-5fd3-4a04-bbc6-5c96343b1f42",
   "metadata": {},
   "outputs": [],
   "source": []
  },
  {
   "cell_type": "code",
   "execution_count": 5,
   "id": "5f61d54e-32da-4016-8b45-38cfa1779dec",
   "metadata": {
    "tags": []
   },
   "outputs": [
    {
     "name": "stdout",
     "output_type": "stream",
     "text": [
      "(81889, 9)\n"
     ]
    }
   ],
   "source": [
    "feature = ['cve.descriptions.lang.en']\n",
    "target_31 = target_columns('31')\n",
    "\n",
    "v31 = cves[cves['cve.metrics.cvssMetricV31']==True][target_31 + feature]\n",
    "\n",
    "print( v31.shape)"
   ]
  },
  {
   "cell_type": "code",
   "execution_count": 24,
   "id": "65d1fc56-52a5-42fa-a174-2e1494686d55",
   "metadata": {
    "tags": []
   },
   "outputs": [
    {
     "name": "stderr",
     "output_type": "stream",
     "text": [
      "C:\\Users\\elyes\\AppData\\Local\\Temp\\ipykernel_11380\\1755501500.py:6: SettingWithCopyWarning: \n",
      "A value is trying to be set on a copy of a slice from a DataFrame\n",
      "\n",
      "See the caveats in the documentation: https://pandas.pydata.org/pandas-docs/stable/user_guide/indexing.html#returning-a-view-versus-a-copy\n",
      "  df.rename(columns={\"cve.descriptions.lang.en\": \"text\", target: \"labels\"}, inplace=True)\n",
      "C:\\Users\\elyes\\AppData\\Local\\Temp\\ipykernel_11380\\1755501500.py:8: SettingWithCopyWarning: \n",
      "A value is trying to be set on a copy of a slice from a DataFrame.\n",
      "Try using .loc[row_indexer,col_indexer] = value instead\n",
      "\n",
      "See the caveats in the documentation: https://pandas.pydata.org/pandas-docs/stable/user_guide/indexing.html#returning-a-view-versus-a-copy\n",
      "  df['text'] = df['text'].astype(str)\n",
      "C:\\Users\\elyes\\AppData\\Local\\Temp\\ipykernel_11380\\1755501500.py:11: SettingWithCopyWarning: \n",
      "A value is trying to be set on a copy of a slice from a DataFrame.\n",
      "Try using .loc[row_indexer,col_indexer] = value instead\n",
      "\n",
      "See the caveats in the documentation: https://pandas.pydata.org/pandas-docs/stable/user_guide/indexing.html#returning-a-view-versus-a-copy\n",
      "  df['labels'] = le.fit_transform(df['labels'])\n",
      "C:\\Users\\elyes\\AppData\\Local\\Temp\\ipykernel_11380\\1755501500.py:6: SettingWithCopyWarning: \n",
      "A value is trying to be set on a copy of a slice from a DataFrame\n",
      "\n",
      "See the caveats in the documentation: https://pandas.pydata.org/pandas-docs/stable/user_guide/indexing.html#returning-a-view-versus-a-copy\n",
      "  df.rename(columns={\"cve.descriptions.lang.en\": \"text\", target: \"labels\"}, inplace=True)\n",
      "C:\\Users\\elyes\\AppData\\Local\\Temp\\ipykernel_11380\\1755501500.py:8: SettingWithCopyWarning: \n",
      "A value is trying to be set on a copy of a slice from a DataFrame.\n",
      "Try using .loc[row_indexer,col_indexer] = value instead\n",
      "\n",
      "See the caveats in the documentation: https://pandas.pydata.org/pandas-docs/stable/user_guide/indexing.html#returning-a-view-versus-a-copy\n",
      "  df['text'] = df['text'].astype(str)\n",
      "C:\\Users\\elyes\\AppData\\Local\\Temp\\ipykernel_11380\\1755501500.py:11: SettingWithCopyWarning: \n",
      "A value is trying to be set on a copy of a slice from a DataFrame.\n",
      "Try using .loc[row_indexer,col_indexer] = value instead\n",
      "\n",
      "See the caveats in the documentation: https://pandas.pydata.org/pandas-docs/stable/user_guide/indexing.html#returning-a-view-versus-a-copy\n",
      "  df['labels'] = le.fit_transform(df['labels'])\n",
      "C:\\Users\\elyes\\AppData\\Local\\Temp\\ipykernel_11380\\1755501500.py:6: SettingWithCopyWarning: \n",
      "A value is trying to be set on a copy of a slice from a DataFrame\n",
      "\n",
      "See the caveats in the documentation: https://pandas.pydata.org/pandas-docs/stable/user_guide/indexing.html#returning-a-view-versus-a-copy\n",
      "  df.rename(columns={\"cve.descriptions.lang.en\": \"text\", target: \"labels\"}, inplace=True)\n",
      "C:\\Users\\elyes\\AppData\\Local\\Temp\\ipykernel_11380\\1755501500.py:8: SettingWithCopyWarning: \n",
      "A value is trying to be set on a copy of a slice from a DataFrame.\n",
      "Try using .loc[row_indexer,col_indexer] = value instead\n",
      "\n",
      "See the caveats in the documentation: https://pandas.pydata.org/pandas-docs/stable/user_guide/indexing.html#returning-a-view-versus-a-copy\n",
      "  df['text'] = df['text'].astype(str)\n",
      "C:\\Users\\elyes\\AppData\\Local\\Temp\\ipykernel_11380\\1755501500.py:11: SettingWithCopyWarning: \n",
      "A value is trying to be set on a copy of a slice from a DataFrame.\n",
      "Try using .loc[row_indexer,col_indexer] = value instead\n",
      "\n",
      "See the caveats in the documentation: https://pandas.pydata.org/pandas-docs/stable/user_guide/indexing.html#returning-a-view-versus-a-copy\n",
      "  df['labels'] = le.fit_transform(df['labels'])\n",
      "C:\\Users\\elyes\\AppData\\Local\\Temp\\ipykernel_11380\\1755501500.py:6: SettingWithCopyWarning: \n",
      "A value is trying to be set on a copy of a slice from a DataFrame\n",
      "\n",
      "See the caveats in the documentation: https://pandas.pydata.org/pandas-docs/stable/user_guide/indexing.html#returning-a-view-versus-a-copy\n",
      "  df.rename(columns={\"cve.descriptions.lang.en\": \"text\", target: \"labels\"}, inplace=True)\n",
      "C:\\Users\\elyes\\AppData\\Local\\Temp\\ipykernel_11380\\1755501500.py:8: SettingWithCopyWarning: \n",
      "A value is trying to be set on a copy of a slice from a DataFrame.\n",
      "Try using .loc[row_indexer,col_indexer] = value instead\n",
      "\n",
      "See the caveats in the documentation: https://pandas.pydata.org/pandas-docs/stable/user_guide/indexing.html#returning-a-view-versus-a-copy\n",
      "  df['text'] = df['text'].astype(str)\n",
      "C:\\Users\\elyes\\AppData\\Local\\Temp\\ipykernel_11380\\1755501500.py:11: SettingWithCopyWarning: \n",
      "A value is trying to be set on a copy of a slice from a DataFrame.\n",
      "Try using .loc[row_indexer,col_indexer] = value instead\n",
      "\n",
      "See the caveats in the documentation: https://pandas.pydata.org/pandas-docs/stable/user_guide/indexing.html#returning-a-view-versus-a-copy\n",
      "  df['labels'] = le.fit_transform(df['labels'])\n",
      "C:\\Users\\elyes\\AppData\\Local\\Temp\\ipykernel_11380\\1755501500.py:6: SettingWithCopyWarning: \n",
      "A value is trying to be set on a copy of a slice from a DataFrame\n",
      "\n",
      "See the caveats in the documentation: https://pandas.pydata.org/pandas-docs/stable/user_guide/indexing.html#returning-a-view-versus-a-copy\n",
      "  df.rename(columns={\"cve.descriptions.lang.en\": \"text\", target: \"labels\"}, inplace=True)\n",
      "C:\\Users\\elyes\\AppData\\Local\\Temp\\ipykernel_11380\\1755501500.py:8: SettingWithCopyWarning: \n",
      "A value is trying to be set on a copy of a slice from a DataFrame.\n",
      "Try using .loc[row_indexer,col_indexer] = value instead\n",
      "\n",
      "See the caveats in the documentation: https://pandas.pydata.org/pandas-docs/stable/user_guide/indexing.html#returning-a-view-versus-a-copy\n",
      "  df['text'] = df['text'].astype(str)\n",
      "C:\\Users\\elyes\\AppData\\Local\\Temp\\ipykernel_11380\\1755501500.py:11: SettingWithCopyWarning: \n",
      "A value is trying to be set on a copy of a slice from a DataFrame.\n",
      "Try using .loc[row_indexer,col_indexer] = value instead\n",
      "\n",
      "See the caveats in the documentation: https://pandas.pydata.org/pandas-docs/stable/user_guide/indexing.html#returning-a-view-versus-a-copy\n",
      "  df['labels'] = le.fit_transform(df['labels'])\n",
      "C:\\Users\\elyes\\AppData\\Local\\Temp\\ipykernel_11380\\1755501500.py:6: SettingWithCopyWarning: \n",
      "A value is trying to be set on a copy of a slice from a DataFrame\n",
      "\n",
      "See the caveats in the documentation: https://pandas.pydata.org/pandas-docs/stable/user_guide/indexing.html#returning-a-view-versus-a-copy\n",
      "  df.rename(columns={\"cve.descriptions.lang.en\": \"text\", target: \"labels\"}, inplace=True)\n",
      "C:\\Users\\elyes\\AppData\\Local\\Temp\\ipykernel_11380\\1755501500.py:8: SettingWithCopyWarning: \n",
      "A value is trying to be set on a copy of a slice from a DataFrame.\n",
      "Try using .loc[row_indexer,col_indexer] = value instead\n",
      "\n",
      "See the caveats in the documentation: https://pandas.pydata.org/pandas-docs/stable/user_guide/indexing.html#returning-a-view-versus-a-copy\n",
      "  df['text'] = df['text'].astype(str)\n",
      "C:\\Users\\elyes\\AppData\\Local\\Temp\\ipykernel_11380\\1755501500.py:11: SettingWithCopyWarning: \n",
      "A value is trying to be set on a copy of a slice from a DataFrame.\n",
      "Try using .loc[row_indexer,col_indexer] = value instead\n",
      "\n",
      "See the caveats in the documentation: https://pandas.pydata.org/pandas-docs/stable/user_guide/indexing.html#returning-a-view-versus-a-copy\n",
      "  df['labels'] = le.fit_transform(df['labels'])\n",
      "C:\\Users\\elyes\\AppData\\Local\\Temp\\ipykernel_11380\\1755501500.py:6: SettingWithCopyWarning: \n",
      "A value is trying to be set on a copy of a slice from a DataFrame\n",
      "\n",
      "See the caveats in the documentation: https://pandas.pydata.org/pandas-docs/stable/user_guide/indexing.html#returning-a-view-versus-a-copy\n",
      "  df.rename(columns={\"cve.descriptions.lang.en\": \"text\", target: \"labels\"}, inplace=True)\n",
      "C:\\Users\\elyes\\AppData\\Local\\Temp\\ipykernel_11380\\1755501500.py:8: SettingWithCopyWarning: \n",
      "A value is trying to be set on a copy of a slice from a DataFrame.\n",
      "Try using .loc[row_indexer,col_indexer] = value instead\n",
      "\n",
      "See the caveats in the documentation: https://pandas.pydata.org/pandas-docs/stable/user_guide/indexing.html#returning-a-view-versus-a-copy\n",
      "  df['text'] = df['text'].astype(str)\n",
      "C:\\Users\\elyes\\AppData\\Local\\Temp\\ipykernel_11380\\1755501500.py:11: SettingWithCopyWarning: \n",
      "A value is trying to be set on a copy of a slice from a DataFrame.\n",
      "Try using .loc[row_indexer,col_indexer] = value instead\n",
      "\n",
      "See the caveats in the documentation: https://pandas.pydata.org/pandas-docs/stable/user_guide/indexing.html#returning-a-view-versus-a-copy\n",
      "  df['labels'] = le.fit_transform(df['labels'])\n",
      "C:\\Users\\elyes\\AppData\\Local\\Temp\\ipykernel_11380\\1755501500.py:6: SettingWithCopyWarning: \n",
      "A value is trying to be set on a copy of a slice from a DataFrame\n",
      "\n",
      "See the caveats in the documentation: https://pandas.pydata.org/pandas-docs/stable/user_guide/indexing.html#returning-a-view-versus-a-copy\n",
      "  df.rename(columns={\"cve.descriptions.lang.en\": \"text\", target: \"labels\"}, inplace=True)\n",
      "C:\\Users\\elyes\\AppData\\Local\\Temp\\ipykernel_11380\\1755501500.py:8: SettingWithCopyWarning: \n",
      "A value is trying to be set on a copy of a slice from a DataFrame.\n",
      "Try using .loc[row_indexer,col_indexer] = value instead\n",
      "\n",
      "See the caveats in the documentation: https://pandas.pydata.org/pandas-docs/stable/user_guide/indexing.html#returning-a-view-versus-a-copy\n",
      "  df['text'] = df['text'].astype(str)\n",
      "C:\\Users\\elyes\\AppData\\Local\\Temp\\ipykernel_11380\\1755501500.py:11: SettingWithCopyWarning: \n",
      "A value is trying to be set on a copy of a slice from a DataFrame.\n",
      "Try using .loc[row_indexer,col_indexer] = value instead\n",
      "\n",
      "See the caveats in the documentation: https://pandas.pydata.org/pandas-docs/stable/user_guide/indexing.html#returning-a-view-versus-a-copy\n",
      "  df['labels'] = le.fit_transform(df['labels'])\n"
     ]
    }
   ],
   "source": [
    "for target in target_31:\n",
    "    label_name = target[35:]\n",
    "    \n",
    "    df = v31[[\"cve.descriptions.lang.en\",target]]\n",
    "    \n",
    "    df.rename(columns={\"cve.descriptions.lang.en\": \"text\", target: \"labels\"}, inplace=True)\n",
    "\n",
    "    df['text'] = df['text'].astype(str)\n",
    "    \n",
    "    le = LabelEncoder()\n",
    "    df['labels'] = le.fit_transform(df['labels'])\n",
    "\n",
    "    X_train, X_test, y_train, y_test = train_test_split(df['text'], df['labels'], test_size=0.2, random_state=10)\n",
    "    train_df = pd.concat([X_train, y_train], axis=1)\n",
    "    test_df = pd.concat([X_test, y_test], axis=1)\n",
    "    \n",
    "    FolderExists = os.path.exists(f\"data/{label_name}\")\n",
    "    if not FolderExists:\n",
    "        os.makedirs(f\"data/{label_name}\")\n",
    "    \n",
    "    train_df.to_csv(f'data/{label_name}/train.csv',index=False)\n",
    "    test_df.to_csv(f'data/{label_name}/test.csv',index=False)\n",
    "    \n",
    "    le_name_mapping = dict(zip(le.classes_, le.transform(le.classes_)))\n",
    "\n",
    "    with open(f'data/{label_name}/label_mapping.txt', \"w\") as fp:\n",
    "        fp.write(str(le_name_mapping))"
   ]
  }
 ],
 "metadata": {
  "kernelspec": {
   "display_name": "Python 3 (ipykernel)",
   "language": "python",
   "name": "python3"
  },
  "language_info": {
   "codemirror_mode": {
    "name": "ipython",
    "version": 3
   },
   "file_extension": ".py",
   "mimetype": "text/x-python",
   "name": "python",
   "nbconvert_exporter": "python",
   "pygments_lexer": "ipython3",
   "version": "3.10.10"
  }
 },
 "nbformat": 4,
 "nbformat_minor": 5
}
